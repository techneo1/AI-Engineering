{
 "cells": [
  {
   "cell_type": "code",
   "execution_count": 4,
   "metadata": {},
   "outputs": [
    {
     "name": "stdout",
     "output_type": "stream",
     "text": [
      "Hello!\n"
     ]
    }
   ],
   "source": [
    "print('Hello!')"
   ]
  },
  {
   "cell_type": "code",
   "execution_count": 2,
   "metadata": {},
   "outputs": [
    {
     "name": "stdout",
     "output_type": "stream",
     "text": [
      "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\n"
     ]
    }
   ],
   "source": [
    "# Check connectivity to Groq\n",
    "import os\n",
    "from dotenv import load_dotenv\n",
    "\n",
    "from groq import Groq\n",
    "load_dotenv()\n",
    " \n",
    "\n",
    "client = Groq(api_key=os.environ.get(\"GROQ_API_KEY\"))\n",
    "print(client.api_key);"
   ]
  },
  {
   "cell_type": "code",
   "execution_count": 5,
   "metadata": {},
   "outputs": [
    {
     "name": "stdout",
     "output_type": "stream",
     "text": [
      "Assistant: I'm good!\n"
     ]
    }
   ],
   "source": [
    "# Invoke\n",
    "# Set the system prompt\n",
    "system_prompt = {\n",
    "    \"role\": \"system\",\n",
    "    \"content\":\n",
    "    \"You are a helpful assistant. You reply with very short answers.\"\n",
    "}\n",
    "\n",
    "# Initialize the chat history\n",
    "chat_history = [system_prompt]\n",
    "\n",
    "\n",
    "# Get user input from the console\n",
    "user_input = 'How are you'\n",
    "\n",
    "  # Append the user input to the chat history\n",
    "chat_history.append({\"role\": \"user\", \"content\": user_input})\n",
    "\n",
    "response = client.chat.completions.create(model=\"llama3-70b-8192\",\n",
    "                                            messages=chat_history,\n",
    "                                            max_tokens=100,\n",
    "                                            temperature=1.2)\n",
    "  # Append the response to the chat history\n",
    "chat_history.append({\n",
    "      \"role\": \"assistant\",\n",
    "      \"content\": response.choices[0].message.content\n",
    "  })\n",
    "  # Print the response\n",
    "print(\"Assistant:\", response.choices[0].message.content)"
   ]
  }
 ],
 "metadata": {
  "kernelspec": {
   "display_name": ".venv",
   "language": "python",
   "name": "python3"
  },
  "language_info": {
   "codemirror_mode": {
    "name": "ipython",
    "version": 3
   },
   "file_extension": ".py",
   "mimetype": "text/x-python",
   "name": "python",
   "nbconvert_exporter": "python",
   "pygments_lexer": "ipython3",
   "version": "3.12.9"
  }
 },
 "nbformat": 4,
 "nbformat_minor": 2
}
